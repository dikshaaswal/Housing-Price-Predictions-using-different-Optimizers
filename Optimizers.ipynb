{
 "cells": [
  {
   "cell_type": "code",
   "execution_count": 301,
   "metadata": {},
   "outputs": [],
   "source": [
    "import pandas as pd\n",
    "import numpy as np\n",
    "import random "
   ]
  },
  {
   "cell_type": "code",
   "execution_count": 302,
   "metadata": {},
   "outputs": [],
   "source": [
    "data = pd.read_csv(\"Housing Price data set.csv\")"
   ]
  },
  {
   "cell_type": "code",
   "execution_count": 303,
   "metadata": {},
   "outputs": [
    {
     "data": {
      "text/html": [
       "<div>\n",
       "<style scoped>\n",
       "    .dataframe tbody tr th:only-of-type {\n",
       "        vertical-align: middle;\n",
       "    }\n",
       "\n",
       "    .dataframe tbody tr th {\n",
       "        vertical-align: top;\n",
       "    }\n",
       "\n",
       "    .dataframe thead th {\n",
       "        text-align: right;\n",
       "    }\n",
       "</style>\n",
       "<table border=\"1\" class=\"dataframe\">\n",
       "  <thead>\n",
       "    <tr style=\"text-align: right;\">\n",
       "      <th></th>\n",
       "      <th>Unnamed: 0</th>\n",
       "      <th>price</th>\n",
       "      <th>lotsize</th>\n",
       "      <th>bedrooms</th>\n",
       "      <th>bathrms</th>\n",
       "      <th>stories</th>\n",
       "      <th>driveway</th>\n",
       "      <th>recroom</th>\n",
       "      <th>fullbase</th>\n",
       "      <th>gashw</th>\n",
       "      <th>airco</th>\n",
       "      <th>garagepl</th>\n",
       "      <th>prefarea</th>\n",
       "    </tr>\n",
       "  </thead>\n",
       "  <tbody>\n",
       "    <tr>\n",
       "      <th>0</th>\n",
       "      <td>1</td>\n",
       "      <td>42000.0</td>\n",
       "      <td>5850</td>\n",
       "      <td>3</td>\n",
       "      <td>1</td>\n",
       "      <td>2</td>\n",
       "      <td>yes</td>\n",
       "      <td>no</td>\n",
       "      <td>yes</td>\n",
       "      <td>no</td>\n",
       "      <td>no</td>\n",
       "      <td>1</td>\n",
       "      <td>no</td>\n",
       "    </tr>\n",
       "    <tr>\n",
       "      <th>1</th>\n",
       "      <td>2</td>\n",
       "      <td>38500.0</td>\n",
       "      <td>4000</td>\n",
       "      <td>2</td>\n",
       "      <td>1</td>\n",
       "      <td>1</td>\n",
       "      <td>yes</td>\n",
       "      <td>no</td>\n",
       "      <td>no</td>\n",
       "      <td>no</td>\n",
       "      <td>no</td>\n",
       "      <td>0</td>\n",
       "      <td>no</td>\n",
       "    </tr>\n",
       "    <tr>\n",
       "      <th>2</th>\n",
       "      <td>3</td>\n",
       "      <td>49500.0</td>\n",
       "      <td>3060</td>\n",
       "      <td>3</td>\n",
       "      <td>1</td>\n",
       "      <td>1</td>\n",
       "      <td>yes</td>\n",
       "      <td>no</td>\n",
       "      <td>no</td>\n",
       "      <td>no</td>\n",
       "      <td>no</td>\n",
       "      <td>0</td>\n",
       "      <td>no</td>\n",
       "    </tr>\n",
       "    <tr>\n",
       "      <th>3</th>\n",
       "      <td>4</td>\n",
       "      <td>60500.0</td>\n",
       "      <td>6650</td>\n",
       "      <td>3</td>\n",
       "      <td>1</td>\n",
       "      <td>2</td>\n",
       "      <td>yes</td>\n",
       "      <td>yes</td>\n",
       "      <td>no</td>\n",
       "      <td>no</td>\n",
       "      <td>no</td>\n",
       "      <td>0</td>\n",
       "      <td>no</td>\n",
       "    </tr>\n",
       "    <tr>\n",
       "      <th>4</th>\n",
       "      <td>5</td>\n",
       "      <td>61000.0</td>\n",
       "      <td>6360</td>\n",
       "      <td>2</td>\n",
       "      <td>1</td>\n",
       "      <td>1</td>\n",
       "      <td>yes</td>\n",
       "      <td>no</td>\n",
       "      <td>no</td>\n",
       "      <td>no</td>\n",
       "      <td>no</td>\n",
       "      <td>0</td>\n",
       "      <td>no</td>\n",
       "    </tr>\n",
       "  </tbody>\n",
       "</table>\n",
       "</div>"
      ],
      "text/plain": [
       "   Unnamed: 0    price  lotsize  bedrooms  bathrms  stories driveway recroom  \\\n",
       "0           1  42000.0     5850         3        1        2      yes      no   \n",
       "1           2  38500.0     4000         2        1        1      yes      no   \n",
       "2           3  49500.0     3060         3        1        1      yes      no   \n",
       "3           4  60500.0     6650         3        1        2      yes     yes   \n",
       "4           5  61000.0     6360         2        1        1      yes      no   \n",
       "\n",
       "  fullbase gashw airco  garagepl prefarea  \n",
       "0      yes    no    no         1       no  \n",
       "1       no    no    no         0       no  \n",
       "2       no    no    no         0       no  \n",
       "3       no    no    no         0       no  \n",
       "4       no    no    no         0       no  "
      ]
     },
     "execution_count": 303,
     "metadata": {},
     "output_type": "execute_result"
    }
   ],
   "source": [
    "data.head()"
   ]
  },
  {
   "cell_type": "code",
   "execution_count": 304,
   "metadata": {},
   "outputs": [],
   "source": [
    "X = np.array(data)"
   ]
  },
  {
   "cell_type": "code",
   "execution_count": 305,
   "metadata": {},
   "outputs": [],
   "source": [
    "X = X[:,[1,2,3]]"
   ]
  },
  {
   "cell_type": "code",
   "execution_count": 306,
   "metadata": {},
   "outputs": [
    {
     "data": {
      "text/plain": [
       "array([[42000.0, 5850, 3],\n",
       "       [38500.0, 4000, 2],\n",
       "       [49500.0, 3060, 3],\n",
       "       ...,\n",
       "       [103000.0, 6000, 3],\n",
       "       [105000.0, 6000, 3],\n",
       "       [105000.0, 6000, 3]], dtype=object)"
      ]
     },
     "execution_count": 306,
     "metadata": {},
     "output_type": "execute_result"
    }
   ],
   "source": [
    "X"
   ]
  },
  {
   "cell_type": "code",
   "execution_count": null,
   "metadata": {},
   "outputs": [],
   "source": []
  },
  {
   "cell_type": "code",
   "execution_count": 307,
   "metadata": {},
   "outputs": [],
   "source": [
    "random.shuffle(X)\n",
    "p = 0.80*len(X)\n",
    "p = round(p)"
   ]
  },
  {
   "cell_type": "code",
   "execution_count": 308,
   "metadata": {},
   "outputs": [],
   "source": [
    "X_train = X[:p, :]\n",
    "X_test = X[p: , : ]\n",
    "\n",
    "Y_train = X_train[:p,0]\n",
    "Y_test = X_test[p:,0]\n",
    "X_train = X_train[:,[1,2]]\n",
    "X_test = X_test[:,[1,2]]"
   ]
  },
  {
   "cell_type": "code",
   "execution_count": 309,
   "metadata": {},
   "outputs": [],
   "source": [
    "X_train = (X_train - X_train.min(axis=0))/(X_train.max(axis=0) - X_train.min(axis=0))\n",
    "Y_train = (Y_train - Y_train.min(axis=0))/(Y_train.max(axis=0) - Y_train.min(axis=0))\n"
   ]
  },
  {
   "cell_type": "code",
   "execution_count": 310,
   "metadata": {},
   "outputs": [],
   "source": [
    "X_train = np.insert(X_train, 0, 1, axis=1)\n",
    "X_test = np.insert(X_test, 0, 1, axis=1)"
   ]
  },
  {
   "cell_type": "code",
   "execution_count": 311,
   "metadata": {},
   "outputs": [
    {
     "data": {
      "text/plain": [
       "array([[1, 0.36363636363636365, 0.5],\n",
       "       [1, 0.36363636363636365, 0.5],\n",
       "       [1, 0.36363636363636365, 0.5],\n",
       "       ...,\n",
       "       [1, 0.1025974025974026, 0.25],\n",
       "       [1, 0.2761904761904762, 0.25],\n",
       "       [1, 0.20346320346320346, 0.5]], dtype=object)"
      ]
     },
     "execution_count": 311,
     "metadata": {},
     "output_type": "execute_result"
    }
   ],
   "source": [
    "X_train"
   ]
  },
  {
   "cell_type": "markdown",
   "metadata": {},
   "source": [
    "# Stochastic Gradient Descent"
   ]
  },
  {
   "cell_type": "code",
   "execution_count": 312,
   "metadata": {},
   "outputs": [],
   "source": [
    "def SGD(epochs, W, alpha):\n",
    "    Totalcost = []\n",
    "    for i in range(epochs):\n",
    "        j = random.randint(0, len(X_train)-1)\n",
    "        prediction = np.dot(X_train[j], W.T)\n",
    "        error = prediction - Y_train[j]\n",
    "        cost = 1/2 * np.dot(error, error)\n",
    "        W = W - (alpha * np.dot(X_train[j], error))\n",
    "        Totalcost.append(cost)\n",
    "        \n",
    "    return W, Totalcost"
   ]
  },
  {
   "cell_type": "code",
   "execution_count": 313,
   "metadata": {},
   "outputs": [],
   "source": [
    "W = np.array([0,0,0])\n",
    "alpha = 0.01\n",
    "epochs = 80000\n",
    "W, Totalcost = SGD(epochs, W, alpha)"
   ]
  },
  {
   "cell_type": "code",
   "execution_count": 314,
   "metadata": {},
   "outputs": [
    {
     "data": {
      "image/png": "[encoded data removed]",
      "text/plain": [
       "<Figure size 432x288 with 1 Axes>"
      ]
     },
     "metadata": {},
     "output_type": "display_data"
    }
   ],
   "source": [
    "#Plot the cost function...\n",
    "import matplotlib.pyplot as plt\n",
    "plt.title('Cost Function J')\n",
    "plt.xlabel('No. of iterations')\n",
    "plt.ylabel('Cost')\n",
    "plt.plot(Totalcost)\n",
    "plt.show()"
   ]
  },
  {
   "cell_type": "markdown",
   "metadata": {},
   "source": [
    "# Gradient descent with momentum"
   ]
  },
  {
   "cell_type": "code",
   "execution_count": 315,
   "metadata": {},
   "outputs": [],
   "source": [
    "def cost_compute(X_,Y,theta):\n",
    "    J = np.power((np.dot(X_, theta)-Y),2)\n",
    "    return np.sum(J) / (2 * len(X_))\n"
   ]
  },
  {
   "cell_type": "code",
   "execution_count": 316,
   "metadata": {},
   "outputs": [],
   "source": [
    "def gradient_Descent(X_,Y,theta,alpha, beta):\n",
    "    v=0\n",
    "    totalCost =[]\n",
    "    for i in range(1000):\n",
    "        prediction = np.dot(X_, theta)\n",
    "        grad = 1/len(X_)*(np.dot(X_.T, prediction - Y) )\n",
    "        v = beta*v + (1-beta) * grad\n",
    "        theta_prev = theta\n",
    "        theta = theta - alpha*v\n",
    "        \n",
    "        totalCost.append(cost_compute(X_, Y, theta))\n",
    "        if np.sum(abs(theta_prev - theta)) < 1e-3 and i > 500:\n",
    "            break\n",
    "    return theta,totalCost"
   ]
  },
  {
   "cell_type": "code",
   "execution_count": 317,
   "metadata": {},
   "outputs": [
    {
     "data": {
      "text/plain": [
       "array([0.15868646524702693, 0.08837486625333855, 0.11004772645252218],\n",
       "      dtype=object)"
      ]
     },
     "execution_count": 317,
     "metadata": {},
     "output_type": "execute_result"
    }
   ],
   "source": [
    "alpha = 0.01\n",
    "beta = 0.9\n",
    "\n",
    "theta = np.array([0,0,0])\n",
    "\n",
    "theta, totalCost= gradient_Descent(X_train,Y_train,theta,alpha, beta)\n",
    "finalCost = cost_compute(X_train,Y_train,theta)\n",
    "#print(totalCost)\n",
    "theta"
   ]
  },
  {
   "cell_type": "code",
   "execution_count": 318,
   "metadata": {},
   "outputs": [
    {
     "data": {
      "image/png": "[encoded data removed]",
      "text/plain": [
       "<Figure size 432x288 with 1 Axes>"
      ]
     },
     "metadata": {},
     "output_type": "display_data"
    }
   ],
   "source": [
    "#Plot the cost function...\n",
    "import matplotlib.pyplot as plt\n",
    "plt.title('Cost Function J')\n",
    "plt.xlabel('No. of iterations')\n",
    "plt.ylabel('Cost')\n",
    "plt.plot(totalCost)\n",
    "plt.show()"
   ]
  },
  {
   "cell_type": "markdown",
   "metadata": {},
   "source": [
    "# RMS PROP"
   ]
  },
  {
   "cell_type": "code",
   "execution_count": 319,
   "metadata": {},
   "outputs": [],
   "source": [
    "def cost_compute(X_,Y,theta):\n",
    "    J = np.power((np.dot(X_, theta)-Y),2)\n",
    "    return np.sum(J) / (2 * len(X_))\n"
   ]
  },
  {
   "cell_type": "code",
   "execution_count": 320,
   "metadata": {},
   "outputs": [],
   "source": [
    "def rmsgradient_Descent(X_,Y,theta,alpha, beta, ep):\n",
    "    v=0\n",
    "    totalCost =[]\n",
    "    for i in range(200):\n",
    "        prediction = np.dot(X_, theta)\n",
    "        #print(prediction)\n",
    "        grad = 1/len(X_)*(np.dot(X_.T, prediction - Y) )\n",
    "        #print(grad.shape)\n",
    "        v = beta*v + (1-beta) * np.square(grad)\n",
    "        #print(v.dtype)\n",
    "        v = v.astype(float)\n",
    "        theta_prev = theta\n",
    "        theta = theta - (alpha*grad)/ (np.sqrt(v) + ep)\n",
    "        cost = cost_compute(X_, Y, theta)\n",
    "        #print(cost)\n",
    "        totalCost.append(cost)\n",
    "        if np.sum(abs(theta_prev - theta)) < 1e-3 :\n",
    "            break\n",
    "    return theta,totalCost"
   ]
  },
  {
   "cell_type": "code",
   "execution_count": 321,
   "metadata": {},
   "outputs": [
    {
     "data": {
      "text/plain": [
       "array([-0.011547554410778059, 0.5794241705226729, 0.23932176795826016],\n",
       "      dtype=object)"
      ]
     },
     "execution_count": 321,
     "metadata": {},
     "output_type": "execute_result"
    }
   ],
   "source": [
    "alpha = 0.01\n",
    "beta = 0.9\n",
    "ep = 1e-8\n",
    "theta = np.array([0,0,0])\n",
    "\n",
    "theta, totalCost= rmsgradient_Descent(X_train,Y_train,theta,alpha, beta,ep)\n",
    "finalCost = cost_compute(X_train,Y_train,theta)\n",
    "#print(totalCost)\n",
    "theta"
   ]
  },
  {
   "cell_type": "code",
   "execution_count": 322,
   "metadata": {},
   "outputs": [
    {
     "data": {
      "image/png": "[encoded data removed]",
      "text/plain": [
       "<Figure size 432x288 with 1 Axes>"
      ]
     },
     "metadata": {},
     "output_type": "display_data"
    }
   ],
   "source": [
    "#Plot the cost function...\n",
    "import matplotlib.pyplot as plt\n",
    "plt.title('Cost Function J')\n",
    "plt.xlabel('No. of iterations')\n",
    "plt.ylabel('Cost')\n",
    "plt.plot(totalCost)\n",
    "plt.show()"
   ]
  },
  {
   "cell_type": "markdown",
   "metadata": {},
   "source": [
    "# ADAM"
   ]
  },
  {
   "cell_type": "code",
   "execution_count": 323,
   "metadata": {},
   "outputs": [],
   "source": [
    "def cost_compute(X_,Y,theta):\n",
    "    J = np.power((np.dot(X_, theta)-Y),2)\n",
    "    return np.sum(J) / (2 * len(X_))\n"
   ]
  },
  {
   "cell_type": "code",
   "execution_count": 324,
   "metadata": {},
   "outputs": [],
   "source": [
    "def ADAM(X_,Y,theta,alpha, beta1, beta2, ep):\n",
    "    v=0\n",
    "    totalCost =[]\n",
    "    m = 0\n",
    "    i=0\n",
    "    for i in range(200):\n",
    "        prediction = np.dot(X_, theta)\n",
    "        grad = 1/len(X_)*(np.dot(X_.T, prediction - Y) )\n",
    "        m = beta1 * m + (1 - beta1) * grad\n",
    "        v = beta2 * v + (1 - beta2) * np.square(grad)\n",
    "        m_ = m/(1 - (beta1 ** 2))\n",
    "        v_ = v/(1 - (beta2 ** 2))\n",
    "        v_ = v_.astype(float)\n",
    "        theta_prev = theta\n",
    "        theta = theta - (alpha * m_)/ (np.sqrt(v_) + epsilon)\n",
    "        totalCost.append(cost_compute(X_, Y, theta))\n",
    "        if np.sum(abs(theta_prev - theta)) < 1e-3 :\n",
    "            print(i)\n",
    "            break\n",
    "        i=i+1\n",
    "    return theta,totalCost"
   ]
  },
  {
   "cell_type": "code",
   "execution_count": 325,
   "metadata": {},
   "outputs": [],
   "source": [
    "theta = np.array([0,0,0])\n",
    "alpha = 0.01\n",
    "beta1 = 0.9\n",
    "beta2 = 0.999\n",
    "epsilon = 1e-8\n",
    "theta, totalCost= ADAM(X_train,Y_train,theta,alpha, beta1, beta2,ep)\n"
   ]
  },
  {
   "cell_type": "code",
   "execution_count": 326,
   "metadata": {},
   "outputs": [
    {
     "data": {
      "image/png": "[encoded data removed]",
      "text/plain": [
       "<Figure size 432x288 with 1 Axes>"
      ]
     },
     "metadata": {},
     "output_type": "display_data"
    }
   ],
   "source": [
    "#Plot the cost function...\n",
    "import matplotlib.pyplot as plt\n",
    "plt.title('Cost Function J')\n",
    "plt.xlabel('No. of iterations')\n",
    "plt.ylabel('Cost')\n",
    "plt.plot(totalCost)\n",
    "plt.show()"
   ]
  },
  {
   "cell_type": "code",
   "execution_count": null,
   "metadata": {},
   "outputs": [],
   "source": []
  },
  {
   "cell_type": "code",
   "execution_count": null,
   "metadata": {},
   "outputs": [],
   "source": []
  }
 ],
 "metadata": {
  "kernelspec": {
   "display_name": "Python 3",
   "language": "python",
   "name": "python3"
  }
 },
 "nbformat": 4,
 "nbformat_minor": 2
}
